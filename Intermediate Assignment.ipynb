{
 "cells": [
  {
   "cell_type": "markdown",
   "metadata": {},
   "source": [
    "**1)** Write a program to generate a Fibonacci series"
   ]
  },
  {
   "cell_type": "code",
   "execution_count": 51,
   "metadata": {},
   "outputs": [
    {
     "data": {
      "text/plain": [
       "610"
      ]
     },
     "execution_count": 51,
     "metadata": {},
     "output_type": "execute_result"
    }
   ],
   "source": [
    "\n",
    "def fibonacci(n) -> int :\n",
    "    \n",
    "    if not isinstance(n, int):\n",
    "        raise TypeError(\"Defined only for integers \")\n",
    "    \n",
    "    elif n < 0:\n",
    "        raise ValueError(\"Defined only for positive integers \")\n",
    "    \n",
    "    elif n == 0:\n",
    "        return 0\n",
    "    \n",
    "    elif n == 1:\n",
    "        return 1\n",
    "    \n",
    "    else:\n",
    "        return fibonacci(n-1) + fibonacci(n-2)\n",
    "    \n",
    "    \n",
    "fibonacci(15)"
   ]
  },
  {
   "cell_type": "markdown",
   "metadata": {},
   "source": [
    "**2)** In cryptography, a Caesar cipher is a very simple encryption techniques in which each letter in the plain text is replaced by a letter some fixed number of positions down the alphabet. For example, with a shift of 3, A would be replaced by D, B would become E, and so on. The method is named after Julius Caesar, who used it to communicate with his generals. ROT-13 (\"rotate by 13 places\") is a widely used example of a Caesar cipher where the shift is 13. In Python, the key for ROT-13 may be represented by means of the following dictionary:\n",
    "\n",
    "key = {'a':'n', 'b':'o', 'c':'p', 'd':'q', 'e':'r', 'f':'s', 'g':'t', 'h':'u',\n",
    "'i':'v', 'j':'w', 'k':'x', 'l':'y', 'm':'z', 'n':'a', 'o':'b', 'p':'c',\n",
    "'q':'d', 'r':'e', 's':'f', 't':'g', 'u':'h', 'v':'i', 'w':'j', 'x':'k',\n",
    "'y':'l', 'z':'m', 'A':'N', 'B':'O', 'C':'P', 'D':'Q', 'E':'R', 'F':'S',\n",
    "'G':'T', 'H':'U', 'I':'V', 'J':'W', 'K':'X', 'L':'Y', 'M':'Z', 'N':'A',\n",
    "'O':'B', 'P':'C', 'Q':'D', 'R':'E', 'S':'F', 'T':'G', 'U':'H', 'V':'I',\n",
    "'W':'J', 'X':'K', 'Y':'L', 'Z':'M'}\n",
    "\n",
    "Your task in this exercise is to implement an encoder/decoder of ROT-13. Once you're done, you will be able to read the following secret message:\n",
    "\n",
    "Pnrfne pvcure zrgubq vf anzrq nsgre Whyvhf Pnrfne!\n",
    "\n",
    "Note that since English has 26 characters, your ROT-13 program will be able to both encode and decode texts written in English.\n"
   ]
  },
  {
   "cell_type": "code",
   "execution_count": 50,
   "metadata": {},
   "outputs": [
    {
     "name": "stdout",
     "output_type": "stream",
     "text": [
      "Caesar cipher method is named after Julius Caesar!\n",
      "Pnrfne pvcure zrgubq vf anzrq nsgre Whyvhf Pnrfne!\n"
     ]
    }
   ],
   "source": [
    "class Ceasar_Cipher:\n",
    "    \n",
    "    key = { 'a':'n', 'b':'o', 'c':'p', 'd':'q', 'e':'r', 'f':'s', 'g':'t', 'h':'u',\n",
    "            'i':'v', 'j':'w', 'k':'x', 'l':'y', 'm':'z', 'n':'a', 'o':'b', 'p':'c',\n",
    "            'q':'d', 'r':'e', 's':'f', 't':'g', 'u':'h', 'v':'i', 'w':'j', 'x':'k',\n",
    "            'y':'l', 'z':'m', 'A':'N', 'B':'O', 'C':'P', 'D':'Q', 'E':'R', 'F':'S',\n",
    "            'G':'T', 'H':'U', 'I':'V', 'J':'W', 'K':'X', 'L':'Y', 'M':'Z', 'N':'A',\n",
    "            'O':'B', 'P':'C', 'Q':'D', 'R':'E', 'S':'F', 'T':'G', 'U':'H', 'V':'I',\n",
    "            'W':'J', 'X':'K', 'Y':'L', 'Z':'M'}\n",
    "    \n",
    "    \n",
    "    @staticmethod\n",
    "    def reverse_lookup(d: dict, \n",
    "                   value: str) -> str:\n",
    "    \n",
    "        key_found = []\n",
    "        \n",
    "        if not isinstance(d, dict):\n",
    "            raise TypeError(\"Defined only for dictionary\")\n",
    "    \n",
    "        for key in d.keys() :\n",
    "       \n",
    "            if d[key] == value:\n",
    "                key_found.append(key)\n",
    "        \n",
    "        if len(key_found) == 1:\n",
    "            return key_found[0]\n",
    "        else:\n",
    "            raise LookupError(\"value neither appear in the dictionary nor returns multiple keys\")\n",
    " \n",
    "    \n",
    "    @staticmethod\n",
    "    def encode(to_be_encoded: str) -> str:\n",
    "      \n",
    "        encoded_string = []\n",
    "        \n",
    "        if not isinstance(to_be_encoded, str):\n",
    "            raise TypeError(\"Defined only for string\")\n",
    "        \n",
    "        for character in to_be_encoded:\n",
    "      \n",
    "            try:\n",
    "                encoded_string.append(Ceasar_Cipher.key[character])\n",
    "            except KeyError:\n",
    "                encoded_string.append(character)\n",
    "            \n",
    "        return \"\".join(encoded_string)\n",
    "    \n",
    "    \n",
    "    @staticmethod\n",
    "    def decode(to_be_decoded: str) -> str:\n",
    "        \n",
    "        decoded_string = []\n",
    "        \n",
    "        if not isinstance(to_be_decoded, str):\n",
    "            raise TypeError(\"Defined only for string\")\n",
    "      \n",
    "        for character in to_be_decoded:\n",
    "            \n",
    "            try:\n",
    "                decoded_string.append(Ceasar_Cipher.reverse_lookup(d = Ceasar_Cipher.key, \n",
    "                                                                   value = character ))\n",
    "            except LookupError:\n",
    "                decoded_string.append(character)\n",
    "        \n",
    "        return \"\".join(decoded_string)\n",
    "\n",
    "\n",
    "t2 = Ceasar_Cipher.decode(to_be_decoded = \"Pnrfne pvcure zrgubq vf anzrq nsgre Whyvhf Pnrfne!\")\n",
    "\n",
    "print(t2)\n"
   ]
  },
  {
   "cell_type": "markdown",
   "metadata": {},
   "source": [
    "**3)** You are given a string of text. Clean the text to remove for any punctuations, extra white spaces, tab characters and count the number of words within the text. After this, count the unique number of words in a text and the frequency of occurrence of each word in that text. Finally, you are provided a dictionary. Using the dictionary, count the words and frequency of words in the dictionary that occur in text.\n",
    "Why Apple Is In My Retirement Portfolio\n",
    "Summary\n",
    "Apple is a rare bird of a stock. It offers shareholders enormous growth, and could potentially become the next great dividend stock.\n",
    "The company is the largest &&&&&& public company in the world, surpassing Exxon Mobil.\n",
    "The raw fundamentals of this company are virtually incomparable.\n",
    "Over the last several years, I have been all over the board when it comes to Apple (AAPL). During its parabolic ------ ----- - - - - - rise in price about 2 years ago, I wrote several articles urging investors to take some chips off the table, and then when it hit some low points, I suggested it might be time to buy the stock, which I did, but not just for my growth portfolio. The stock seemed to have become a value stock with a rather strong + + + + + + dividend, so I placed it in 3 of my portfolios, and have held it ever since in 2 of the 3 portfolios I currently manage.\n",
    "As of several months ago, I added APPL to my newest retirement portfolio, \"Buy The Dips Portfolio\", or BTDP. The stock is now [ [ [ [ [ going to be held for the very long term in at least 3 out of 4 of my various portfolios, mainly for dividend income investors, but with an eye towards another strong round of growth.\n",
    "Apple Is More Than A Reborn Growth Stock, It Is Also A Future Dividend Champion\n",
    "The recent shareholder-friendly moves ] ] ] ] ] ] that Apple has made should ignite even more intense interest in the stock for both dividend-seeking investors, as well as for growth investors.\n"
   ]
  },
  {
   "cell_type": "code",
   "execution_count": null,
   "metadata": {
    "collapsed": true
   },
   "outputs": [],
   "source": []
  },
  {
   "cell_type": "markdown",
   "metadata": {},
   "source": [
    "**4)** Write a python program which reads a text file and performs the following operations:\n",
    "  a) Arrange the words in every line in reverse order and print them \n",
    "  b) Count the frequency of each word in the file and print them in alphabetical order (by words). The output should have word followed by its frequency count. Convert all the words in the file into lowercase to avoid duplication of words. \n",
    "  c) Print top 20 most frequently used words"
   ]
  },
  {
   "cell_type": "code",
   "execution_count": null,
   "metadata": {
    "collapsed": true
   },
   "outputs": [],
   "source": []
  }
 ],
 "metadata": {
  "kernelspec": {
   "display_name": "Python 3",
   "language": "python",
   "name": "python3"
  },
  "language_info": {
   "codemirror_mode": {
    "name": "ipython",
    "version": 3
   },
   "file_extension": ".py",
   "mimetype": "text/x-python",
   "name": "python",
   "nbconvert_exporter": "python",
   "pygments_lexer": "ipython3",
   "version": "3.6.2"
  }
 },
 "nbformat": 4,
 "nbformat_minor": 2
}
